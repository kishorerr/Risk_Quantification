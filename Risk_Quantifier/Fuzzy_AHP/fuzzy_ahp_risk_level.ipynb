{
 "cells": [
  {
   "cell_type": "code",
   "execution_count": 1,
   "metadata": {},
   "outputs": [],
   "source": [
    "import numpy as np\n",
    "import pandas as pd\n",
    "import joblib\n",
    "from sklearn.feature_extraction.text import CountVectorizer"
   ]
  },
  {
   "cell_type": "code",
   "execution_count": 2,
   "metadata": {},
   "outputs": [
    {
     "name": "stdout",
     "output_type": "stream",
     "text": [
      "<bound method DataFrame.info of                                              Payload  \\\n",
      "0               <script>alert(1)</script> dfd login    \n",
      "1              && perl -e 'print \"\"X\"\"x4096'  login    \n",
      "2  admin' and substring(password/text(),1,1)='7  ...   \n",
      "\n",
      "                  Attack Type  \\\n",
      "0  CROSS-SITE SCRIPTING (XSS)   \n",
      "1           COMMAND INJECTION   \n",
      "2               SQL INJECTION   \n",
      "\n",
      "                                  Attack Description Confidentiality Impact  \\\n",
      "0  This is a payload for an XSS (Cross-Site Scrip...                    LOW   \n",
      "1  The given payload \"&& perl -e 'print \"\"X\"\"x409...                    LOW   \n",
      "2  This attack is an example of Blind SQL Injecti...                   HIGH   \n",
      "\n",
      "  Integrity Impact Availability Impact  \n",
      "0              LOW                NONE  \n",
      "1              LOW                NONE  \n",
      "2             NONE                NONE  >\n"
     ]
    }
   ],
   "source": [
    "df_attacks = pd.read_csv(\"C:/Users/kisho/Documents/GitHub/Risk_Quantification/Logged_Output/attack_desc.csv\")\n",
    "print(df_attacks.info)\n",
    "cv = joblib.load(\"C:/Users/kisho/Documents/GitHub/Risk_Quantification/Risk_Quantifier/Criteria_Impact/cv.pkl\")\n",
    "    "
   ]
  },
  {
   "cell_type": "code",
   "execution_count": 3,
   "metadata": {},
   "outputs": [],
   "source": [
    "conf_model = joblib.load(\"C:/Users/kisho/Documents/GitHub/Risk_Quantification/Risk_Quantifier/Criteria_Impact/ens_conf.pkl\")\n",
    "int_model = joblib.load(\"C:/Users/kisho/Documents/GitHub/Risk_Quantification/Risk_Quantifier/Criteria_Impact/ens_int.pkl\")\n",
    "avail_model = joblib.load(\"C:/Users/kisho/Documents/GitHub/Risk_Quantification/Risk_Quantifier/Criteria_Impact/ens_avail.pkl\")"
   ]
  },
  {
   "cell_type": "code",
   "execution_count": 4,
   "metadata": {},
   "outputs": [],
   "source": [
    "conf_arr = []\n",
    "int_arr = []\n",
    "avail_arr = []\n",
    "payload_list = []\n",
    "desc_list = []\n",
    "for index, row in df_attacks.iterrows():\n",
    "    current_desc = str(row['Attack Description'])\n",
    "    payload_list.append(row['Payload'])\n",
    "    desc_list.append(current_desc)\n",
    "    new_X = cv.transform([current_desc])\n",
    "    current_conf = conf_model.predict(new_X)[0]\n",
    "    current_int = int_model.predict(new_X)[0]\n",
    "    current_avail = avail_model.predict(new_X)[0]\n",
    "    conf_arr.append(current_conf)\n",
    "    int_arr.append(current_int)\n",
    "    avail_arr.append(current_avail)\n",
    "    \n"
   ]
  },
  {
   "cell_type": "code",
   "execution_count": 5,
   "metadata": {},
   "outputs": [],
   "source": [
    "conf_arr = np.array(conf_arr)\n",
    "int_arr = np.array(int_arr)\n",
    "avail_arr = np.array(avail_arr)\n",
    "df_attacks['Confidentiality Impact'] = conf_arr\n",
    "df_attacks['Integrity Impact'] = int_arr\n",
    "df_attacks['Availability Impact'] = avail_arr\n",
    "    "
   ]
  },
  {
   "cell_type": "code",
   "execution_count": 6,
   "metadata": {},
   "outputs": [
    {
     "data": {
      "text/plain": [
       "<bound method DataFrame.info of                                              Payload  \\\n",
       "0               <script>alert(1)</script> dfd login    \n",
       "1              && perl -e 'print \"\"X\"\"x4096'  login    \n",
       "2  admin' and substring(password/text(),1,1)='7  ...   \n",
       "\n",
       "                  Attack Type  \\\n",
       "0  CROSS-SITE SCRIPTING (XSS)   \n",
       "1           COMMAND INJECTION   \n",
       "2               SQL INJECTION   \n",
       "\n",
       "                                  Attack Description Confidentiality Impact  \\\n",
       "0  This is a payload for an XSS (Cross-Site Scrip...                    LOW   \n",
       "1  The given payload \"&& perl -e 'print \"\"X\"\"x409...                    LOW   \n",
       "2  This attack is an example of Blind SQL Injecti...                   HIGH   \n",
       "\n",
       "  Integrity Impact Availability Impact  \n",
       "0              LOW                NONE  \n",
       "1              LOW                NONE  \n",
       "2             NONE                NONE  >"
      ]
     },
     "execution_count": 6,
     "metadata": {},
     "output_type": "execute_result"
    }
   ],
   "source": [
    "df_attacks = df_attacks.reset_index(drop=True)\n",
    "df_attacks.info"
   ]
  },
  {
   "cell_type": "code",
   "execution_count": 8,
   "metadata": {},
   "outputs": [],
   "source": [
    "priority_mapping = {\n",
    "    \"HIGH\": 10,\n",
    "    \"LOW\": 5,\n",
    "    \"NONE\": 1\n",
    "}\n",
    "conf_impact = np.array(df_attacks['Confidentiality Impact'].values)\n",
    "int_impact = np.array(df_attacks['Integrity Impact'].values)\n",
    "avail_impact = np.array(df_attacks['Availability Impact'].values)\n",
    "criteria_weights = np.array([0.6, 0.2, 0.2])\n"
   ]
  },
  {
   "cell_type": "code",
   "execution_count": 9,
   "metadata": {},
   "outputs": [
    {
     "name": "stdout",
     "output_type": "stream",
     "text": [
      "[[1.  5.  1. ]\n",
      " [0.2 1.  5. ]\n",
      " [1.  0.2 1. ]]\n",
      "Overall risk level: 3.96\n",
      "Linguistic term: Medium\n",
      "[[1.  5.  1. ]\n",
      " [0.2 1.  5. ]\n",
      " [1.  0.2 1. ]]\n",
      "Overall risk level: 3.96\n",
      "Linguistic term: Medium\n",
      "[[ 1.  10.   1. ]\n",
      " [ 0.1  1.   1. ]\n",
      " [ 1.   1.   1. ]]\n",
      "Overall risk level: 4.26\n",
      "Linguistic term: Medium\n"
     ]
    }
   ],
   "source": [
    "risk_level_arr = []\n",
    "risk_term_arr = []\n",
    "i = 0\n",
    "for index, row in df_attacks.iterrows():\n",
    "    curr_conf = priority_mapping.get(conf_impact[i])\n",
    "    curr_int = priority_mapping.get(int_impact[i])\n",
    "    curr_avail = priority_mapping.get(avail_impact[i])\n",
    "\n",
    "    impact_matrix = np.array([[1, curr_conf, curr_avail],\n",
    "                          [1/curr_conf, 1, curr_int],\n",
    "                          [1/curr_avail, 1/curr_int, 1]])\n",
    "    \n",
    "    print(impact_matrix)\n",
    "    \n",
    "\n",
    "    risk_level = np.sum(impact_matrix * criteria_weights, axis=1)\n",
    "    risk_level = np.sum(risk_level) / np.sum(criteria_weights)\n",
    "\n",
    "    if risk_level < 3.33:\n",
    "        risk_term = 'Low'\n",
    "    elif risk_level < 6.67:\n",
    "        risk_term = 'Medium'\n",
    "    else:\n",
    "        risk_term = 'High'\n",
    "\n",
    "    risk_term_arr.append(risk_term)\n",
    "    print('Overall risk level:', risk_level)\n",
    "    print('Linguistic term:', risk_term)\n",
    "\n",
    "    i = i+1\n",
    "\n",
    "    \n",
    "    \n",
    "    "
   ]
  },
  {
   "cell_type": "code",
   "execution_count": 10,
   "metadata": {},
   "outputs": [
    {
     "data": {
      "text/plain": [
       "<bound method DataFrame.info of                                              Payload  \\\n",
       "0               <script>alert(1)</script> dfd login    \n",
       "1              && perl -e 'print \"\"X\"\"x4096'  login    \n",
       "2  admin' and substring(password/text(),1,1)='7  ...   \n",
       "\n",
       "                  Attack Type  \\\n",
       "0  CROSS-SITE SCRIPTING (XSS)   \n",
       "1           COMMAND INJECTION   \n",
       "2               SQL INJECTION   \n",
       "\n",
       "                                  Attack Description Confidentiality Impact  \\\n",
       "0  This is a payload for an XSS (Cross-Site Scrip...                    LOW   \n",
       "1  The given payload \"&& perl -e 'print \"\"X\"\"x409...                    LOW   \n",
       "2  This attack is an example of Blind SQL Injecti...                   HIGH   \n",
       "\n",
       "  Integrity Impact Availability Impact Overall Risk Level  \n",
       "0              LOW                NONE             Medium  \n",
       "1              LOW                NONE             Medium  \n",
       "2             NONE                NONE             Medium  >"
      ]
     },
     "execution_count": 10,
     "metadata": {},
     "output_type": "execute_result"
    }
   ],
   "source": [
    "risk_term_arr = np.array(risk_term_arr)\n",
    "df_attacks['Overall Risk Level'] = risk_term_arr\n",
    "df_attacks.info"
   ]
  },
  {
   "cell_type": "code",
   "execution_count": 11,
   "metadata": {},
   "outputs": [],
   "source": [
    "df_attacks.to_csv(\"C:/Users/kisho/Documents/GitHub/Risk_Quantification/Logged_Output/attack_desc.csv\",index=False)"
   ]
  }
 ],
 "metadata": {
  "kernelspec": {
   "display_name": "Python 3",
   "language": "python",
   "name": "python3"
  },
  "language_info": {
   "codemirror_mode": {
    "name": "ipython",
    "version": 3
   },
   "file_extension": ".py",
   "mimetype": "text/x-python",
   "name": "python",
   "nbconvert_exporter": "python",
   "pygments_lexer": "ipython3",
   "version": "3.9.7"
  },
  "orig_nbformat": 4
 },
 "nbformat": 4,
 "nbformat_minor": 2
}
