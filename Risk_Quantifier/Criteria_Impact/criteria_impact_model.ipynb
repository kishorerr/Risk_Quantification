{
 "cells": [
  {
   "cell_type": "code",
   "execution_count": 19,
   "metadata": {},
   "outputs": [],
   "source": [
    "import requests\n",
    "import json\n",
    "import pandas as pd\n",
    "priority_mapping = {\n",
    "    \"HIGH\": 10,\n",
    "    \"MEDIUM\": 5,\n",
    "    \"LOW\": 1,\n",
    "    \"NONE\":0\n",
    "}\n",
    "attack_type_map = { \"sqli\" : \"CWE-89\", \"xss\" : \"CWE-79\", \"cmdi\" : \"CWE-94\"}\n"
   ]
  },
  {
   "cell_type": "code",
   "execution_count": 20,
   "metadata": {},
   "outputs": [],
   "source": [
    "xss = 'CWE-79'\n",
    "sqli = 'CWE-89'\n",
    "cmdi = 'CWE-94'\n",
    "vuln_types = [sqli, xss, cmdi]"
   ]
  },
  {
   "cell_type": "code",
   "execution_count": 21,
   "metadata": {},
   "outputs": [
    {
     "name": "stdout",
     "output_type": "stream",
     "text": [
      "1\n",
      "1\n",
      "1\n"
     ]
    }
   ],
   "source": [
    "desc_data = []\n",
    "conf_impact = []\n",
    "int_impact = []\n",
    "avail_impact = []\n",
    "api_url = 'https://services.nvd.nist.gov/rest/json/cves/1.0/?pubStartDate=2022-01-01T00:00:00:000%20UTC-05:00&pubEndDate=2022-03-01T23:59:59:999%20UTC-05:00'\n",
    "\n",
    "for key, value in attack_type_map.items():\n",
    "    print(\"1\")\n",
    "    params = {\"cweId\": value, \"resultsPerPage\": 500}\n",
    "    response = requests.get(api_url,params=params)\n",
    "    data = response.json()\n",
    "    for cve_item in data['result']['CVE_Items']:\n",
    "        cve = cve_item['cve']\n",
    "        if 'description' in cve:\n",
    "            for description_data in cve['description']['description_data']:\n",
    "                desc = description_data['value']\n",
    "                desc_data.append(desc)\n",
    "    for cve_item_2 in data['result']['CVE_Items']:\n",
    "        cve = cve_item_2['cve']\n",
    "        if 'problemtype' in cve:\n",
    "            for problemtype_data in cve['problemtype']['problemtype_data']:\n",
    "                if 'description' in problemtype_data:\n",
    "                    cvss = cve_item_2['impact']['baseMetricV3']['cvssV3']\n",
    "                    if 'confidentialityImpact' in cvss:\n",
    "                        conf_impact.append(cvss['confidentialityImpact'])\n",
    "                    if 'integrityImpact' in cvss:\n",
    "                        int_impact.append(cvss['integrityImpact'])\n",
    "                    if 'availabilityImpact' in cvss:\n",
    "                        avail_impact.append(cvss['availabilityImpact'])\n"
   ]
  },
  {
   "cell_type": "code",
   "execution_count": 22,
   "metadata": {},
   "outputs": [
    {
     "name": "stdout",
     "output_type": "stream",
     "text": [
      "(674,)\n",
      "(674,)\n",
      "(674,)\n",
      "(674,)\n"
     ]
    }
   ],
   "source": [
    "import numpy as np\n",
    "desc_data = np.array(desc_data)\n",
    "conf_impact = np.array(conf_impact)\n",
    "int_impact = np.array(int_impact)\n",
    "avail_impact = np.array(avail_impact)\n",
    "print(desc_data.shape)\n",
    "print(conf_impact.shape)\n",
    "print(int_impact.shape)\n",
    "print(avail_impact.shape)"
   ]
  },
  {
   "cell_type": "code",
   "execution_count": 23,
   "metadata": {},
   "outputs": [],
   "source": [
    "csv_data = {'Description' : desc_data,'Confidentiality Impact ': conf_impact, 'Integrity Impact': int_impact, 'Availability Impact': avail_impact}\n",
    "df = pd.DataFrame(csv_data)\n",
    "df.info\n",
    "df.to_csv(\"desc_impact.csv\")"
   ]
  },
  {
   "cell_type": "code",
   "execution_count": 24,
   "metadata": {},
   "outputs": [],
   "source": [
    "csv_data = {'Description' : desc_data,'Confidentiality Impact': conf_impact}\n",
    "df = pd.DataFrame(csv_data)\n",
    "df.info\n",
    "df.to_csv(\"conf_impact.csv\")"
   ]
  },
  {
   "cell_type": "code",
   "execution_count": 25,
   "metadata": {},
   "outputs": [],
   "source": [
    "csv_data = {'Description' : desc_data,'Integrity Impact': int_impact}\n",
    "df = pd.DataFrame(csv_data)\n",
    "df.info\n",
    "df.to_csv(\"int_impact.csv\")"
   ]
  },
  {
   "cell_type": "code",
   "execution_count": 26,
   "metadata": {},
   "outputs": [],
   "source": [
    "csv_data = {'Description' : desc_data, 'Availability Impact': avail_impact}\n",
    "df = pd.DataFrame(csv_data)\n",
    "df.info\n",
    "df.to_csv(\"avail_impact.csv\")"
   ]
  },
  {
   "cell_type": "code",
   "execution_count": 27,
   "metadata": {},
   "outputs": [],
   "source": [
    "vuln_impacts = {}\n",
    "for vuln_type in vuln_types:\n",
    "    vuln_impacts[vuln_type] = {'Confidentiality': 0, 'Integrity': 0, 'Availability': 0}"
   ]
  },
  {
   "cell_type": "code",
   "execution_count": 28,
   "metadata": {},
   "outputs": [],
   "source": [
    "file_path = \"C:/Users/kisho/Documents/GitHub/Risk_Quantification/Risk_Quantifier/Criteria_Impact\"\n",
    "import joblib\n",
    "\n",
    "def dump(model , filename):\n",
    "    with open(filename, \"wb\") as f:\n",
    "        joblib.dump(model , f)"
   ]
  },
  {
   "cell_type": "code",
   "execution_count": 29,
   "metadata": {},
   "outputs": [],
   "source": [
    "import pandas as pd\n",
    "import numpy as np\n",
    "import re\n",
    "import nltk\n",
    "from sklearn.feature_extraction.text import CountVectorizer\n",
    "from sklearn.model_selection import train_test_split\n",
    "from sklearn.naive_bayes import MultinomialNB\n",
    "from sklearn.metrics import accuracy_score, confusion_matrix\n",
    "\n",
    "# load the dataset\n",
    "conf_data = pd.read_csv(\"conf_impact.csv\",encoding='latin-1')\n",
    "int_data = pd.read_csv(\"int_impact.csv\",encoding='latin-1')\n",
    "avail_data = pd.read_csv(\"avail_impact.csv\",encoding='latin-1')\n"
   ]
  },
  {
   "cell_type": "code",
   "execution_count": 30,
   "metadata": {},
   "outputs": [],
   "source": [
    "cv = CountVectorizer()\n"
   ]
  },
  {
   "cell_type": "code",
   "execution_count": 31,
   "metadata": {},
   "outputs": [],
   "source": [
    "# Confidentiality Data\n",
    "X_conf = cv.fit_transform(conf_data['Description'])\n",
    "y_conf = conf_data['Confidentiality Impact']\n",
    "X_train_c, X_test_c, y_train_c, y_test_c = train_test_split(X_conf, y_conf, test_size=0.2, random_state=42)\n",
    "\n",
    "# Integrity Data\n",
    "X_int = cv.fit_transform(int_data['Description'])\n",
    "y_int = int_data['Integrity Impact']\n",
    "X_train_i, X_test_i, y_train_i, y_test_i = train_test_split(X_int, y_int, test_size=0.2, random_state=42)\n",
    "\n",
    "# vAvailability Data\n",
    "X_avail = cv.fit_transform(avail_data['Description'])\n",
    "y_avail = avail_data['Availability Impact']\n",
    "X_train_a, X_test_a, y_train_a, y_test_a = train_test_split(X_avail, y_avail, test_size=0.2, random_state=42)\n",
    "\n",
    "dump(cv , filename=f\"{file_path}/cv.pkl\")\n"
   ]
  },
  {
   "cell_type": "code",
   "execution_count": 32,
   "metadata": {},
   "outputs": [],
   "source": [
    "# train a Naive Bayes classifier\n",
    "from sklearn.pipeline import Pipeline\n",
    "from sklearn.tree import DecisionTreeClassifier\n",
    "from sklearn.neighbors import KNeighborsClassifier\n",
    "from sklearn.ensemble import RandomForestClassifier , VotingClassifier\n",
    "\n",
    "\n",
    "\n",
    "\n",
    "clf1 = RandomForestClassifier(n_estimators=30, max_depth=5)\n",
    "clf2 = DecisionTreeClassifier(max_depth=10)\n",
    "clf3 = KNeighborsClassifier(n_neighbors=100)\n",
    "\n",
    "ensemble_desc = VotingClassifier(estimators=[('clf1', clf1), ('clf2', clf2), ('clf3', clf3)], voting='soft')\n",
    "\n"
   ]
  },
  {
   "cell_type": "code",
   "execution_count": 33,
   "metadata": {},
   "outputs": [
    {
     "name": "stdout",
     "output_type": "stream",
     "text": [
      "[+] ACCURACY \n",
      "\n",
      "Ensembled Classifier for Confidentiality :  0.9703703703703703\n"
     ]
    }
   ],
   "source": [
    "ensemble_desc.fit(X_train_c,y_train_c)\n",
    "y_ens = ensemble_desc.predict(X_test_c)\n",
    "dump(ensemble_desc , filename=f\"{file_path}/ens_conf.pkl\")\n",
    "\n",
    "\n",
    "print(\"[+] ACCURACY \\n\")\n",
    "\n",
    "print(\"Ensembled Classifier for Confidentiality : \" , accuracy_score(y_test_c , y_ens))"
   ]
  },
  {
   "cell_type": "code",
   "execution_count": 34,
   "metadata": {},
   "outputs": [
    {
     "name": "stdout",
     "output_type": "stream",
     "text": [
      "[+] ACCURACY \n",
      "\n",
      "Ensembled Classifier for Integrity :  0.9333333333333333\n"
     ]
    }
   ],
   "source": [
    "ensemble_desc.fit(X_train_i,y_train_i)\n",
    "y_ens = ensemble_desc.predict(X_test_i)\n",
    "dump(ensemble_desc , filename=f\"{file_path}/ens_int.pkl\")\n",
    "\n",
    "\n",
    "print(\"[+] ACCURACY \\n\")\n",
    "\n",
    "print(\"Ensembled Classifier for Integrity : \" , accuracy_score(y_test_i , y_ens))"
   ]
  },
  {
   "cell_type": "code",
   "execution_count": 35,
   "metadata": {},
   "outputs": [
    {
     "name": "stdout",
     "output_type": "stream",
     "text": [
      "[+] ACCURACY \n",
      "\n",
      "Ensembled Classifier for Availability :  0.9555555555555556\n"
     ]
    }
   ],
   "source": [
    "ensemble_desc.fit(X_train_a,y_train_a)\n",
    "y_ens = ensemble_desc.predict(X_test_a)\n",
    "dump(ensemble_desc , filename=f\"{file_path}/ens_avail.pkl\")\n",
    "\n",
    "\n",
    "print(\"[+] ACCURACY \\n\")\n",
    "\n",
    "print(\"Ensembled Classifier for Availability : \" , accuracy_score(y_test_a , y_ens))"
   ]
  },
  {
   "cell_type": "code",
   "execution_count": 36,
   "metadata": {},
   "outputs": [
    {
     "name": "stdout",
     "output_type": "stream",
     "text": [
      "  (0, 239)\t1\n",
      "  (0, 294)\t1\n",
      "  (0, 297)\t2\n",
      "  (0, 341)\t1\n",
      "  (0, 380)\t1\n",
      "  (0, 382)\t2\n",
      "  (0, 426)\t1\n",
      "  (0, 455)\t1\n",
      "  (0, 496)\t2\n",
      "  (0, 531)\t1\n",
      "  (0, 537)\t1\n",
      "  (0, 638)\t1\n",
      "  (0, 741)\t1\n",
      "  (0, 951)\t1\n",
      "  (0, 989)\t3\n",
      "  (0, 1001)\t1\n",
      "  (0, 1077)\t2\n",
      "  (0, 1086)\t1\n",
      "  (0, 1255)\t2\n",
      "  (0, 1270)\t2\n",
      "  (0, 1275)\t1\n",
      "  (0, 1277)\t1\n",
      "  (0, 1324)\t3\n",
      "  (0, 1620)\t1\n",
      "  (0, 1711)\t1\n",
      "  (0, 1717)\t1\n",
      "  (0, 1741)\t1\n",
      "  (0, 1805)\t1\n",
      "  (0, 2011)\t1\n",
      "  (0, 2012)\t2\n",
      "  (0, 2222)\t1\n",
      "  (0, 2318)\t1\n",
      "  (0, 2372)\t1\n",
      "  (0, 2409)\t1\n",
      "  (0, 2448)\t1\n",
      "  (0, 2449)\t9\n",
      "  (0, 2464)\t2\n",
      "  (0, 2482)\t6\n",
      "  (0, 2511)\t1\n",
      "  (0, 2606)\t2\n",
      "  (0, 2634)\t1\n",
      "  (0, 2690)\t1\n",
      "  (0, 2713)\t1\n",
      "The predicted confidentiality impact for the given description is: HIGH\n"
     ]
    }
   ],
   "source": [
    "new_description = 'This attack is an example of Blind SQL Injection, where the attacker attempts to extract sensitive information from the database by modifying the original query in a way that causes the application to behave differently based on whether the injected condition is true or false, and using conditional queries to extract information. In this case, the attacker is attempting to extract the password character by character from a table called \"admin\", using the \"substring\" function and a conditional query to compare each character to the value \"7\"'\n",
    "new_X = cv.transform([new_description])\n",
    "print(new_X)\n",
    "conf_model = joblib.load(\"ens_conf.pkl\")\n",
    "int_model = joblib.load(\"ens_int.pkl\")\n",
    "avail_model = joblib.load(\"ens_avail.pkl\")\n",
    "prediction = conf_model.predict(new_X)[0]\n",
    "print('The predicted confidentiality impact for the given description is:', prediction)\n"
   ]
  }
 ],
 "metadata": {
  "kernelspec": {
   "display_name": "Python 3",
   "language": "python",
   "name": "python3"
  },
  "language_info": {
   "codemirror_mode": {
    "name": "ipython",
    "version": 3
   },
   "file_extension": ".py",
   "mimetype": "text/x-python",
   "name": "python",
   "nbconvert_exporter": "python",
   "pygments_lexer": "ipython3",
   "version": "3.9.7"
  },
  "orig_nbformat": 4
 },
 "nbformat": 4,
 "nbformat_minor": 2
}
