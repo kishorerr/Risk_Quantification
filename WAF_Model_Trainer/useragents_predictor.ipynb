{
 "cells": [
  {
   "cell_type": "code",
   "execution_count": 2,
   "id": "648810c3",
   "metadata": {},
   "outputs": [],
   "source": [
    "import pandas as pd\n",
    "import seaborn as sns\n",
    "import matplotlib.pyplot as plt\n",
    "# get all normal useragents data\n",
    "def get_all_normaluseragents_df(count : int = 100):\n",
    "    df_firefox = pd.read_csv(\"data_collection/firefox.csv\")\n",
    "    df_chrome = pd.read_csv(\"data_collection/chrome.csv\")\n",
    "    df_ie = pd.read_csv(\"data_collection/internet-explorer.csv\")\n",
    "    df_opera = pd.read_csv(\"data_collection/opera.csv\")\n",
    "    df_safari = pd.read_csv(\"data_collection/safari.csv\")\n",
    "    df_android = pd.read_csv(\"data_collection/android-browser.csv\")\n",
    "\n",
    "    df_firefox.drop([\"version\",\"commonality\"],axis=1,inplace=True)\n",
    "    df_chrome.drop([\"version\",\"commonality\"],axis=1,inplace=True)\n",
    "    df_ie.drop([\"version\",\"commonality\"],axis=1,inplace=True)\n",
    "    df_opera.drop([\"version\",\"commonality\"],axis=1,inplace=True)\n",
    "    df_safari.drop([\"version\",\"commonality\"],axis=1,inplace=True)\n",
    "    df_android.drop([\"version\",\"commonality\"],axis=1,inplace=True)\n",
    "\n",
    "    firefox_ua =  df_firefox.head(count)\n",
    "    chrome_ua =  df_chrome.head(count)\n",
    "    ie_ua =  df_ie.head(count)\n",
    "    safari_ua =  df_safari.head(count)\n",
    "    android_ua =  df_android.head(count)\n",
    "\n",
    "    useragents = pd.concat([firefox_ua , chrome_ua , ie_ua , safari_ua , android_ua] , axis=0)\n",
    "    shuffled_ua = useragents.sample(frac=1).reset_index(drop=True)\n",
    "    shuffled_ua['is_badua'] = 0\n",
    "    return shuffled_ua"
   ]
  },
  {
   "cell_type": "code",
   "execution_count": 3,
   "id": "395f5ebf",
   "metadata": {},
   "outputs": [],
   "source": [
    "def get_all_useragents_df():\n",
    "    normal_ua = get_all_normaluseragents_df(200)\n",
    "    bad_ua = pd.read_csv(\"bad_user_agents.csv\",dtype={'is_badua': 'Int64'})\n",
    "    df_useragents = pd.concat([normal_ua , bad_ua],axis=0)\n",
    "    df_useragents = df_useragents.sample(frac=1).reset_index(drop=True)\n",
    "    return df_useragents"
   ]
  },
  {
   "cell_type": "code",
   "execution_count": 4,
   "id": "c2cc15a3",
   "metadata": {},
   "outputs": [
    {
     "data": {
      "text/html": [
       "<div>\n",
       "<style scoped>\n",
       "    .dataframe tbody tr th:only-of-type {\n",
       "        vertical-align: middle;\n",
       "    }\n",
       "\n",
       "    .dataframe tbody tr th {\n",
       "        vertical-align: top;\n",
       "    }\n",
       "\n",
       "    .dataframe thead tr th {\n",
       "        text-align: left;\n",
       "    }\n",
       "\n",
       "    .dataframe thead tr:last-of-type th {\n",
       "        text-align: right;\n",
       "    }\n",
       "</style>\n",
       "<table border=\"1\" class=\"dataframe\">\n",
       "  <thead>\n",
       "    <tr>\n",
       "      <th></th>\n",
       "      <th colspan=\"4\" halign=\"left\">ua</th>\n",
       "    </tr>\n",
       "    <tr>\n",
       "      <th></th>\n",
       "      <th>count</th>\n",
       "      <th>unique</th>\n",
       "      <th>top</th>\n",
       "      <th>freq</th>\n",
       "    </tr>\n",
       "    <tr>\n",
       "      <th>is_badua</th>\n",
       "      <th></th>\n",
       "      <th></th>\n",
       "      <th></th>\n",
       "      <th></th>\n",
       "    </tr>\n",
       "  </thead>\n",
       "  <tbody>\n",
       "    <tr>\n",
       "      <th>0</th>\n",
       "      <td>1000</td>\n",
       "      <td>1000</td>\n",
       "      <td>Mozilla/4.0 (compatible; MSIE 7.0; Windows NT 6.1; Trident/7.0; SLCC2; Media...</td>\n",
       "      <td>1</td>\n",
       "    </tr>\n",
       "    <tr>\n",
       "      <th>1</th>\n",
       "      <td>637</td>\n",
       "      <td>634</td>\n",
       "      <td>meanpathbot</td>\n",
       "      <td>2</td>\n",
       "    </tr>\n",
       "  </tbody>\n",
       "</table>\n",
       "</div>"
      ],
      "text/plain": [
       "            ua         \\\n",
       "         count unique   \n",
       "is_badua                \n",
       "0         1000   1000   \n",
       "1          637    634   \n",
       "\n",
       "                                                                                           \\\n",
       "                                                                                      top   \n",
       "is_badua                                                                                    \n",
       "0         Mozilla/4.0 (compatible; MSIE 7.0; Windows NT 6.1; Trident/7.0; SLCC2; Media...   \n",
       "1                                                                             meanpathbot   \n",
       "\n",
       "               \n",
       "         freq  \n",
       "is_badua       \n",
       "0           1  \n",
       "1           2  "
      ]
     },
     "execution_count": 4,
     "metadata": {},
     "output_type": "execute_result"
    }
   ],
   "source": [
    "#describing user agent data frame\n",
    "\n",
    "pd.set_option('display.max_colwidth',80)\n",
    "df_useragents = get_all_useragents_df()\n",
    "df_useragents.head\n",
    "df_useragents.groupby(\"is_badua\").describe()"
   ]
  },
  {
   "cell_type": "code",
   "execution_count": 5,
   "id": "b1774973",
   "metadata": {},
   "outputs": [
    {
     "data": {
      "text/plain": [
       "<Axes: xlabel='is_badua', ylabel='count'>"
      ]
     },
     "execution_count": 5,
     "metadata": {},
     "output_type": "execute_result"
    },
    {
     "data": {
      "image/png": "[encoded data removed]",
      "text/plain": [
       "<Figure size 640x480 with 1 Axes>"
      ]
     },
     "metadata": {},
     "output_type": "display_data"
    }
   ],
   "source": [
    "sns.countplot(x=\"is_badua\" , data=df_useragents )\n",
    "# df_useragents['ua'][3]"
   ]
  },
  {
   "cell_type": "code",
   "execution_count": 6,
   "id": "6b5cdb37",
   "metadata": {},
   "outputs": [
    {
     "data": {
      "text/plain": [
       "<function WAF.utils.util.process_ua(ua: str)>"
      ]
     },
     "execution_count": 6,
     "metadata": {},
     "output_type": "execute_result"
    }
   ],
   "source": [
    "import sys \n",
    "sys.path.append('/Users/kisho/Documents/GitHub/Risk_Quantification')\n",
    "sys.path\n",
    "from WAF.utils.util import process_ua \n",
    "\n",
    "process_ua"
   ]
  },
  {
   "cell_type": "code",
   "execution_count": 7,
   "id": "30874d88",
   "metadata": {},
   "outputs": [],
   "source": [
    "from sklearn.model_selection import train_test_split\n",
    "from sklearn.ensemble import RandomForestClassifier\n",
    "from sklearn.metrics import accuracy_score\n",
    "from sklearn.model_selection import train_test_split\n",
    "from sklearn.tree import DecisionTreeClassifier\n",
    "from sklearn.neighbors import KNeighborsClassifier\n",
    "from sklearn.ensemble import RandomForestClassifier , VotingClassifier\n",
    "#save the model\n",
    "import joblib\n",
    "\n",
    "def dump(model , filename):\n",
    "    with open(filename, \"wb\") as f:\n",
    "        joblib.dump(model , f)\n",
    "\n",
    "X = df_useragents[\"ua\"]\n",
    "y = df_useragents['is_badua'].astype('int')\n",
    "\n",
    "x_train , x_test , y_train , y_test = train_test_split(X ,y , test_size=0.2) \n",
    "\n",
    "\n",
    "from sklearn.feature_extraction.text import CountVectorizer\n",
    "cv = CountVectorizer(analyzer=process_ua)\n",
    "\n",
    "\n"
   ]
  },
  {
   "cell_type": "code",
   "execution_count": 9,
   "id": "6049e26d",
   "metadata": {},
   "outputs": [
    {
     "name": "stdout",
     "output_type": "stream",
     "text": [
      "[+] ACCURACY \n",
      "\n",
      "Ensembled Classifier :  0.9969512195121951\n"
     ]
    }
   ],
   "source": [
    "from sklearn.pipeline import Pipeline\n",
    "\n",
    "clf1 = RandomForestClassifier(n_estimators=30, max_depth=5)\n",
    "clf2 = DecisionTreeClassifier(max_depth=10)\n",
    "clf3 = KNeighborsClassifier(n_neighbors=100)\n",
    "\n",
    "ensemble_cv_pipe = Pipeline([(\"count-vectorizer\" ,cv ), (\"VotingClassifier\" ,VotingClassifier(estimators=[('clf1', clf1), ('clf2', clf2), ('clf3', clf3)], voting='soft')) ])\n",
    "\n",
    "ensemble_cv_pipe.fit(x_train,y_train)\n",
    "\n",
    "file_path = \"C:/Users/kisho/Documents/GitHub/Risk_Quantification/WAF_Models/User_Agent_Models\"\n",
    "dump(ensemble_cv_pipe , filename=f\"{file_path}/ens_cv_pipe.pkl\")\n",
    "y_ens = ensemble_cv_pipe.predict(x_test)\n",
    "\n",
    "\n",
    "print(\"[+] ACCURACY \\n\")\n",
    "\n",
    "print(\"Ensembled Classifier : \" , accuracy_score(y_test , y_ens))\n",
    "\n"
   ]
  },
  {
   "cell_type": "code",
   "execution_count": 10,
   "id": "63bff5f7",
   "metadata": {},
   "outputs": [
    {
     "name": "stdout",
     "output_type": "stream",
     "text": [
      "\n",
      "Ensembled Classifier : \n",
      "               precision    recall  f1-score   support\n",
      "\n",
      "           0       1.00      0.99      1.00       196\n",
      "           1       0.99      1.00      1.00       132\n",
      "\n",
      "    accuracy                           1.00       328\n",
      "   macro avg       1.00      1.00      1.00       328\n",
      "weighted avg       1.00      1.00      1.00       328\n",
      "\n"
     ]
    }
   ],
   "source": [
    "from sklearn.metrics import classification_report\n",
    "\n",
    "\n",
    "print(\"\\nEnsembled Classifier : \\n\" , classification_report(y_test , y_ens))\n"
   ]
  },
  {
   "cell_type": "code",
   "execution_count": 11,
   "id": "6e75b259",
   "metadata": {},
   "outputs": [
    {
     "name": "stdout",
     "output_type": "stream",
     "text": [
      "Confusion Matrix\n",
      "\n",
      "Ensembled Classifier : \n",
      " [[195   1]\n",
      " [  0 132]]\n"
     ]
    }
   ],
   "source": [
    "from sklearn.metrics import confusion_matrix\n",
    "import warnings\n",
    "import seaborn as sns\n",
    "\n",
    "warnings.filterwarnings(\"ignore\")\n",
    "print(\"Confusion Matrix\")\n",
    "\n",
    "\n",
    "print(\"\\nEnsembled Classifier : \\n\" , confusion_matrix(y_test , y_ens))\n"
   ]
  }
 ],
 "metadata": {
  "kernelspec": {
   "display_name": "Python 3",
   "language": "python",
   "name": "python3"
  },
  "language_info": {
   "codemirror_mode": {
    "name": "ipython",
    "version": 3
   },
   "file_extension": ".py",
   "mimetype": "text/x-python",
   "name": "python",
   "nbconvert_exporter": "python",
   "pygments_lexer": "ipython3",
   "version": "3.9.7"
  },
  "vscode": {
   "interpreter": {
    "hash": "317abd80653085121c5a0f1070ab2e662fefca692dc3af3b1a569244903cfcf1"
   }
  }
 },
 "nbformat": 4,
 "nbformat_minor": 5
}
